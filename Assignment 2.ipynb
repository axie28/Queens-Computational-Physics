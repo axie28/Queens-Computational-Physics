{
 "cells": [
  {
   "cell_type": "code",
   "execution_count": 1,
   "metadata": {},
   "outputs": [],
   "source": [
    "#PHYS213\n",
    "#Assignment 2\n",
    "#Anne Xie\n",
    "#Student Number: 20125978"
   ]
  },
  {
   "cell_type": "code",
   "execution_count": 2,
   "metadata": {},
   "outputs": [
    {
     "name": "stdout",
     "output_type": "stream",
     "text": [
      "The area of triangle A is 2.21 centimetres squared\n",
      "The area of triangle B is 644.0 centimetres squared\n",
      "The angle of triangle A is 52.59464336859145 degrees.\n",
      "The angle of triangle B is 11.604762356378805 degrees.\n"
     ]
    }
   ],
   "source": [
    "#Question 1\n",
    "\"\"\"Create a class called triangle where each instance uses the base and a height of a triangle\n",
    "The class should have methods which finds the area of the triangle and the angle.\"\"\"\n",
    "\n",
    "import math as math\n",
    "#import math libary\n",
    "\n",
    "class triangle:\n",
    "    \n",
    "    def __init__(self, base, height): #Initiating the class\n",
    "        self.base = base\n",
    "        self.height = height\n",
    "    def calculateArea (self): #method used to calculate the area of a triangle\n",
    "        Area = (self.base*self.height)/2\n",
    "        return Area\n",
    "    def calculateAngle(self): #method used to calculate the angle of an isosceles triangle\n",
    "        angle = math.degrees(math.atan(self.height/self.base/2))\n",
    "        return angle\n",
    "        \n",
    "#calling class with given instances\n",
    "triangleA = triangle(1.3, 3.4)\n",
    "triangleB = triangle(56, 23)\n",
    "\n",
    "#using methods to find the area and angle of the triangles\n",
    "aArea = triangleA.calculateArea()\n",
    "bArea = triangleB.calculateArea()\n",
    "aAngle = triangleA.calculateAngle()\n",
    "bAngle = triangleB.calculateAngle()\n",
    "\n",
    "print (\"The area of triangle A is\",aArea,\"centimetres squared\")\n",
    "print (\"The area of triangle B is\",bArea,\"centimetres squared\")\n",
    "print (\"The angle of triangle A is\",aAngle,\"degrees.\")\n",
    "print (\"The angle of triangle B is\",bAngle,\"degrees.\")"
   ]
  },
  {
   "cell_type": "code",
   "execution_count": 3,
   "metadata": {},
   "outputs": [
    {
     "name": "stdout",
     "output_type": "stream",
     "text": [
      "Please input height of triangle 2\n",
      "The area is 10.0 centimetres squared\n",
      "The angle is, 5.710593137499643 degrees\n"
     ]
    }
   ],
   "source": [
    "#Question 2\n",
    "\"\"\"For this question, using the class made in question one, ask the user for a height\n",
    "of a triangle and find the area and angle of that triangle. \"\"\"\n",
    "    \n",
    "while True: #use while loop to continue prompting for correct input\n",
    "    \n",
    "    try:\n",
    "        height = int(input(\"Please input height of triangle \"))\n",
    "        if height < 0: #ensures that inputs are positive\n",
    "            print (\"Positive inputs only\")\n",
    "            continue\n",
    "        break\n",
    "    except ValueError: #ensures that all inputs are integars\n",
    "        print (\"please enter an integar.\")\n",
    "        \n",
    "#instance of the class where the height is input and the base is 10\n",
    "newTriangle = triangle(10, height)\n",
    "#Uses methods in class to find area and angle\n",
    "newArea = newTriangle.calculateArea()\n",
    "newAngle = newTriangle.calculateAngle()\n",
    "\n",
    "print ('The area is',newArea, \"centimetres squared\")\n",
    "print ('The angle is,',newAngle, 'degrees')"
   ]
  },
  {
   "cell_type": "code",
   "execution_count": 35,
   "metadata": {},
   "outputs": [
    {
     "name": "stdout",
     "output_type": "stream",
     "text": [
      "Please enter Roman numerals only\n",
      "1666\n",
      "3267\n",
      "2044\n"
     ]
    }
   ],
   "source": [
    "#Question 3:  Write a function which accepts a string which is a number in roman numerals. \n",
    "#Change the roman numerals into an integer, and exit gracefully if any of the characters \n",
    "#entered aren’t one of the roman numerals. \n",
    "\n",
    "mydict = {} #Create dictionary for roman numerals\n",
    "mydict = {\n",
    "    \"I\": 1,\n",
    "    \"V\": 5,\n",
    "    \"X\": 10,\n",
    "    \"L\": 50,\n",
    "    \"C\": 100,\n",
    "    \"D\": 500,\n",
    "    \"M\": 1000\n",
    "    }\n",
    "\n",
    "\n",
    "def romanNum(number):\n",
    "    \"\"\"The function romanNum takes in characters as its parametres and its purpose is to check\n",
    "    if the entered value is a Roman numeral.\"\"\"\n",
    "    for i in range(len(number)): #loops through all \n",
    "            if number[i] not in mydict: #checks if it is a Roman numeral\n",
    "                return (\"Please enter Roman numerals only\")\n",
    "                break\n",
    "            else:\n",
    "                return recurse(number)\n",
    "\n",
    "\n",
    "def recurse(number):\n",
    "    \"\"\"The function recurse takes in characters (Roman numerals) as its parameters and outputs\n",
    "    the integar values. This is a recursive function\"\"\"\n",
    "    if len(number) == 1: #if there is only one letter\n",
    "        return mydict[number[0]] #add its value to the counter\n",
    "    elif mydict[number[0]] >= mydict[number[1]]: #if the letter is larger than the next\n",
    "        return mydict[number[0]] + recurse(number[1:]) #then add value and discard the character\n",
    "    elif mydict[number[0]] < mydict[number[1]]: #if the letter is less than the next\n",
    "        return recurse(number[1:]) - mydict[number[0]] #subtract the value and discard the character\n",
    "            \n",
    "print (romanNum('hello'))\n",
    "print (romanNum('MDCLXVI'))\n",
    "print (romanNum('MMMCCLXVII'))\n",
    "print (romanNum('MMXLIV'))\n"
   ]
  },
  {
   "cell_type": "code",
   "execution_count": 9,
   "metadata": {},
   "outputs": [
    {
     "name": "stdout",
     "output_type": "stream",
     "text": [
      "[1.2955202066613396, 4.389418342308651, 9.479425538604204, 16.644217687237692, 25.479425538604204, 36.38941834230865, 49.29552020666134]\n",
      "142.97294586238607\n"
     ]
    }
   ],
   "source": [
    "#Question 4\n",
    "\"\"\"For this question, read in a text file with data in a table. Create an array which contains\n",
    "the result of adding the square of the first column to the sine of the second column. Then add \n",
    "all of the values in the resulting array.\"\"\"\n",
    "\n",
    "import numpy as np # import library\n",
    "data = np.loadtxt(\"assignment_2_data.txt\") #load text file\n",
    "\n",
    "array = [] #create array\n",
    "for row in range(len(data)): #loop through each row in the file\n",
    "    #Takes square of the first column and adds it to the sin of the second column\n",
    "    array.append(data[row][0]**2+math.sin(data[row][1]))\n",
    "    \n",
    "print (array)\n",
    "print (sum(array)) #sums all numbers"
   ]
  },
  {
   "cell_type": "code",
   "execution_count": null,
   "metadata": {},
   "outputs": [],
   "source": []
  }
 ],
 "metadata": {
  "kernelspec": {
   "display_name": "Python 3",
   "language": "python",
   "name": "python3"
  },
  "language_info": {
   "codemirror_mode": {
    "name": "ipython",
    "version": 3
   },
   "file_extension": ".py",
   "mimetype": "text/x-python",
   "name": "python",
   "nbconvert_exporter": "python",
   "pygments_lexer": "ipython3",
   "version": "3.7.3"
  }
 },
 "nbformat": 4,
 "nbformat_minor": 2
}
