{
 "cells": [
  {
   "cell_type": "code",
   "execution_count": 1,
   "metadata": {},
   "outputs": [],
   "source": [
    "#PHYS 213\n",
    "#Assignment 7\n",
    "#Anne Xie\n",
    "#Student Number: 20125978"
   ]
  },
  {
   "cell_type": "code",
   "execution_count": 1,
   "metadata": {},
   "outputs": [
    {
     "name": "stdout",
     "output_type": "stream",
     "text": [
      "[[ 22.  26.]\n",
      " [ 18.  19.]\n",
      " [ 53.  64.]\n",
      " [-21. -25.]]\n",
      "[[ 22  26]\n",
      " [ 18  19]\n",
      " [ 53  64]\n",
      " [-21 -25]]\n"
     ]
    }
   ],
   "source": [
    "#Question 1\n",
    "\n",
    "#import libraries\n",
    "import numpy as np\n",
    "\n",
    "#Make first matrix\n",
    "v1 = np.array([[3,2,-1]])\n",
    "v2 = np.array ([[4,0,-3]])\n",
    "v3 = np.array([[7,3,1]])\n",
    "v4 = np.array([[-2,-5,3]])\n",
    "m1 = np.vstack([v1,v2,v3,v4])\n",
    "\n",
    "#Make second matrix\n",
    "v5 = np.array([[6,7]])\n",
    "v6 = np.array([[3,4]])\n",
    "v7 = np.array([[2,3]])\n",
    "m2 = np.vstack([v5,v6,v7])\n",
    "\n",
    "\n",
    "def matrix(m,n): #define function to do matrix multiplication\n",
    "    u = np.zeros((len(m),len(n[1])))\n",
    "                 \n",
    "    for k in range(len(n[1])): #loop over each column of the second matrix\n",
    "        for i in range(len(m)): #loop over each row of the first matrix\n",
    "            for j in range(len(n)): #loop over each element in each row of the first matrix\n",
    "                u[i][k] += m[i][j]*n[j][k] #do the matrix multiplication\n",
    "    return u\n",
    "\n",
    "print (matrix(m1,m2))\n",
    "print (np.matmul(m1,m2)) #Use numpy to check answer\n"
   ]
  },
  {
   "cell_type": "code",
   "execution_count": null,
   "metadata": {},
   "outputs": [],
   "source": [
    "#Question 2\n",
    "\n",
    "\"\"\"\n",
    "1) Divide by the first element to get 1 in (0,0) position\n",
    "2) Take each row and subtract that times their first element to get 0 in the first column [1,0,0,0]\n",
    "3) Divide by the second element in the second row to get one in the (1,1) position\n",
    "4) Take the rows below and subtract the second row times their second element\n",
    "5) Divide by the third element in the third row to get one in the (2,2) position\n",
    "6) Take the rows below and subtract the third row times their third element\n",
    "7) Divide by the fourth element in the last row to get one in the (3,3) position\n",
    "\n",
    "\"\"\"\n"
   ]
  },
  {
   "cell_type": "code",
   "execution_count": 2,
   "metadata": {},
   "outputs": [
    {
     "name": "stdout",
     "output_type": "stream",
     "text": [
      "[[ 1.         -0.5         2.5         0.5        -1.5       ]\n",
      " [ 0.          1.         -1.57142857 -2.14285714 -7.85714286]\n",
      " [ 0.          0.          1.          1.         -3.        ]\n",
      " [ 0.          0.          0.          1.          1.        ]]\n",
      "Solution:\n",
      " 2.0 -12.0 -4.0 1.0000000000000004\n",
      "Solution:\n",
      " [[  2.]\n",
      " [-12.]\n",
      " [ -4.]\n",
      " [  1.]]\n"
     ]
    }
   ],
   "source": [
    "#Question 2\n",
    "\n",
    "#Make matrix for system of equations\n",
    "v11 = np.array([[2.0,-1.0,5.0,1.0,-3.0]])\n",
    "v12 = np.array([[3.0,2.0,2.0,-6.0,-32.0]])\n",
    "v13 = np.array([[1.0,3.0,3.0,-1.0,-47.0]])\n",
    "v14 = np.array([[5.0,-2.0,-3.0,3.0,49.0]])\n",
    "m3 = np.vstack([v11,v12,v13,v14])\n",
    "\n",
    "v21 = np.array([[-3.0]])\n",
    "v22 = np.array([[-32.0]])\n",
    "v23 = np.array([[-47.0]])\n",
    "v24 = np.array([[49.0]])\n",
    "m4 = np.vstack([v21,v22,v23,v24])\n",
    "\n",
    "v31 = np.array([[2.0,-1.0,5.0,1.0]])\n",
    "v32 = np.array([[3.0,2.0,2.0,-6.0]])\n",
    "v33 = np.array([[1.0,3.0,3.0,-1.0]])\n",
    "v34 = np.array([[5.0,-2.0,-3.0,3.0]])\n",
    "m5 = np.vstack([v31,v32,v33,v34])\n",
    "\n",
    "def solve(m): #define function to do row reduction\n",
    "    r1 = m[0]\n",
    "    r2 = m[1]\n",
    "    r3 = m[2]\n",
    "    r4 = m[3]\n",
    "    #First column\n",
    "    r1 = r1/m[0][0]\n",
    "    r2 = r2 - r1*r2[0]\n",
    "    r3 = r3 - r1*r3[0]\n",
    "    r4 = r4 - r1*r4[0]\n",
    "    #second column\n",
    "    r2 = r2/r2[1]\n",
    "    r3 = r3 - r2*r3[1]\n",
    "    r4 = r4 - r2*r4[1]\n",
    "    #third column\n",
    "    r3 = r3/r3[2]\n",
    "    r4 = r4 - r3*r4[2]\n",
    "    #fourth column\n",
    "    r4 = r4/r4[3]\n",
    "    m1 = np.vstack([r1,r2,r3,r4])\n",
    "    return m1\n",
    "\n",
    "def solve_better(m): #This function is just a bit shorter because I used for loops\n",
    "    for i in range(len(m)-1): #first row\n",
    "        m[0] = m[0]/m[0][0] #get 1 by dividing by its own element\n",
    "        m[i+1] = m[i+1] - m[0]*m[i+1][0] #Subtract the rows below\n",
    "    for i in range (len(m)-2): #second row\n",
    "        m[1] = m[1]/m[1][1]\n",
    "        m[i+2] = m[i+2] - m[1]*m[i+2][1]\n",
    "    for i in range(len(m)-3): #third row\n",
    "        m[2] = m[2]/m[2][2]\n",
    "        m[i+3] = m[i+3] - m[2]*m[i+3][2]\n",
    "    m[3] = m[3]/m[3][3] #Last row\n",
    "    print (m)\n",
    "    return m\n",
    "\n",
    "solution = solve_better(m3) \n",
    "#solution = (solve(m3))\n",
    "\n",
    "#Solve for variable using back substitution\n",
    "z = solution[3][-1]\n",
    "y = solution[2][-1] - z*solution[2][-2]\n",
    "x = solution[1][-1] - z*solution[1][-2] - y*solution[1][-3]\n",
    "w = solution[0][-1] - z*solution[0][-2] - y*solution[0][-3] - x*solution[0][-4]\n",
    "\n",
    "print (\"Solution:\\n\",w,x,y,z)\n",
    "print (\"Solution:\\n\",np.linalg.solve(m5,m4)) #check using numpy"
   ]
  },
  {
   "cell_type": "code",
   "execution_count": 6,
   "metadata": {},
   "outputs": [
    {
     "name": "stdout",
     "output_type": "stream",
     "text": [
      "14\n",
      "14.000000000000009\n"
     ]
    }
   ],
   "source": [
    "#Question 3\n",
    "\n",
    "v41 = np.array([[2,-1,5]])\n",
    "v42 = np.array([[3,2,2]])\n",
    "v43 = np.array([[1,3,-1]])\n",
    "m5 = np.vstack([v41,v42,v43])\n",
    "\n",
    "def determinant(m, count):\n",
    "    if len(m) == len(m[0]): #check if matrix is square\n",
    "        if len(m) == 2: #set base case as two by two matrix\n",
    "             return(m[0][0]*m[1][1])-(m[0][1]*m[1][0]) #ad-bc\n",
    "        else: \n",
    "            for i in range (len(m)):# loop through number of rows in matrix\n",
    "                if i == 0: #for the first row\n",
    "                    n = m[1:]# cut off first row\n",
    "                elif i == len(m): #for last row\n",
    "                    n = m[:len(m)] #cut off last row\n",
    "                else: #for all other rows\n",
    "                    o = m[:i]#slice up to, but not including that row\n",
    "                    p = m[i+1:] #rows after that row\n",
    "                    n = np.vstack([o,p]) #put back into matrix\n",
    "                newm = n[:,1:] #cut off first column\n",
    "                count += ((-1)**(i+2))*m[i][0]*determinant(newm, count) \n",
    "            return count\n",
    "    else:\n",
    "        print (\"The matrix is not square\")\n",
    "    \n",
    "print (determinant(m5,0))\n",
    "print (np.linalg.det(m5))# check answer with numpy"
   ]
  },
  {
   "cell_type": "code",
   "execution_count": null,
   "metadata": {},
   "outputs": [],
   "source": []
  }
 ],
 "metadata": {
  "kernelspec": {
   "display_name": "Python 3",
   "language": "python",
   "name": "python3"
  },
  "language_info": {
   "codemirror_mode": {
    "name": "ipython",
    "version": 3
   },
   "file_extension": ".py",
   "mimetype": "text/x-python",
   "name": "python",
   "nbconvert_exporter": "python",
   "pygments_lexer": "ipython3",
   "version": "3.7.3"
  }
 },
 "nbformat": 4,
 "nbformat_minor": 2
}
