{
 "cells": [
  {
   "cell_type": "code",
   "execution_count": 10,
   "metadata": {},
   "outputs": [],
   "source": [
    "#PHYS 213\n",
    "#Assignment 1\n",
    "#Anne Xie\n",
    "#Student Number: 20125978"
   ]
  },
  {
   "cell_type": "code",
   "execution_count": 1,
   "metadata": {},
   "outputs": [
    {
     "name": "stdout",
     "output_type": "stream",
     "text": [
      "176 cm is  447.04  in inches.\n"
     ]
    }
   ],
   "source": [
    "#Question 1\n",
    "\"\"\"Use python to convert 176 cm to inches\"\"\"\n",
    "inch = 176*2.54 #multiply by 2.54\n",
    "print (\"176 cm is \",inch,\" in inches.\")"
   ]
  },
  {
   "cell_type": "code",
   "execution_count": 2,
   "metadata": {},
   "outputs": [
    {
     "name": "stdout",
     "output_type": "stream",
     "text": [
      "Seconds:  1998125\n",
      "Minutes:  33302.083333333336\n",
      "Hours:  555.0347222222223\n",
      "Days:  23.126446759259263\n"
     ]
    }
   ],
   "source": [
    "#Question 2 \n",
    "\"\"\"Use python to covert 1998125 seconds into days, hours, minutes, and seconds.\"\"\"\n",
    "seconds = 1998125\n",
    "minutes = seconds/60 #there are 60 seconds in a minute\n",
    "hours = minutes/60 #there are 60 minutes in a hour\n",
    "days = hours/24 # there are 24 hours in one day\n",
    "\n",
    "print (\"Seconds: \",seconds)\n",
    "print (\"Minutes: \",minutes)\n",
    "print (\"Hours: \", hours)\n",
    "print (\"Days: \", days)"
   ]
  },
  {
   "cell_type": "code",
   "execution_count": 6,
   "metadata": {},
   "outputs": [
    {
     "name": "stdout",
     "output_type": "stream",
     "text": [
      "Question a:  9.433981132056603\n",
      "Question b:  3.478505426185217\n",
      "Question c:  12.409673645990857\n"
     ]
    }
   ],
   "source": [
    "#Importing libraries\n",
    "import math as math\n",
    "\n",
    "#Question 3\n",
    "\"\"\"Use python to find the distances between some points\"\"\"\n",
    "def findDistance(point1, point2):\n",
    "    \"\"\"The findDistance function takes in two parameters, point1 and point2. The displacement\n",
    "    is found by taking teh difference between the point's dimensions\"\"\"\n",
    "    xDistance = point2[0]-point1[0]\n",
    "    yDistance = point2[1]-point1[1]\n",
    "    zDistance = point2[2]-point1[2]\n",
    "    #Use pythagoras to find distance\n",
    "    distance = math.sqrt(xDistance**2 + yDistance**2 + zDistance**2) \n",
    "    return distance\n",
    "\n",
    "findDistance([0,0,0],[5,8,0])\n",
    "findDistance([-2.0,1.1,0], [1.3,2.2,0])\n",
    "findDistance([5,2,3],[8,10,12])\n",
    "print (\"Question a: \",findDistance([0,0,0],[5,8,0]))\n",
    "print (\"Question b: \",findDistance([-2.0,1.1,0], [1.3,2.2,0]))\n",
    "print (\"Question c: \",findDistance([5,2,3],[8,10,12]))\n",
    "\n"
   ]
  },
  {
   "cell_type": "code",
   "execution_count": 7,
   "metadata": {},
   "outputs": [
    {
     "name": "stdout",
     "output_type": "stream",
     "text": [
      "1033\n"
     ]
    }
   ],
   "source": [
    "#Question 4\n",
    "\"\"\"Find the largest prime number below 1034\"\"\"\n",
    "\n",
    "def prime(number):\n",
    "    \"\"\"The function prime makes a list of prime numbers and prints out the largest prime\n",
    "    number. It takes in an integar as a parameter.\"\"\"\n",
    "    myList = [] # make empty list\n",
    "    for i in range(2,1035): #for loop to go through 2 to 1034\n",
    "        for j in range(2,i): \n",
    "            if i%j == 0: #checks to see if a number can be divided\n",
    "                break \n",
    "            else: \n",
    "                myList.append(i) #adds all prime numbers to the list\n",
    "    print (max(myList)) \n",
    "    \n",
    "prime(1034)"
   ]
  },
  {
   "cell_type": "code",
   "execution_count": 8,
   "metadata": {},
   "outputs": [
    {
     "name": "stdout",
     "output_type": "stream",
     "text": [
      "237\n"
     ]
    }
   ],
   "source": [
    "#Question 5\n",
    "\"\"\"Find the largest common divisor of 19434 and 31047\"\"\"\n",
    "\n",
    "def GCD(x,y):\n",
    "    \"\"\"The GCD function is used to find the greatest common divisor of two given numbers.\n",
    "    It takes in two integars as parameters and outputs the greatest common divisor. This \n",
    "    function uses the Euclidean algorithm. \"\"\"\n",
    "    if x == y: # if the numbers are the same then the largest divisor is itself\n",
    "        return x\n",
    "    elif x > y: #Used to determine whether x or y is larger\n",
    "        big = x\n",
    "        small = y\n",
    "    else:\n",
    "        big = y\n",
    "        small = x\n",
    "    return GCD(big-small, small) #takes difference between the two numbers and uses recursion\n",
    "                                #until the greatest common divisor is found\n",
    "print (GCD(19434, 31047))"
   ]
  },
  {
   "cell_type": "code",
   "execution_count": 11,
   "metadata": {},
   "outputs": [
    {
     "name": "stdout",
     "output_type": "stream",
     "text": [
      "[0, 3, 0, 5, 0, 7, 0, 9, 0, 11, 0, 13, 0, 15, 0, 17, 0, 19, 0, 21, 0, 23, 0, 25, 0, 27, 0, 29, 0, 31, 0, 33, 0, 35, 0, 37, 0, 39, 0, 41, 0, 43, 0, 45, 0, 47, 0, 49, 0, 51, 0, 53]\n"
     ]
    }
   ],
   "source": [
    "#Question 6\n",
    "\"\"\"Create an array with all integars from 2 to 53 and replace all even entires with 0.\"\"\"\n",
    "array = [] #create an array\n",
    "for i in range(2,54): \n",
    "    if i%2 == 0: #determine whether a integar is even\n",
    "        i = 0\n",
    "        array.append(i)\n",
    "    else:\n",
    "        array.append(i)\n",
    "        \n",
    "print (array)"
   ]
  },
  {
   "cell_type": "code",
   "execution_count": null,
   "metadata": {},
   "outputs": [],
   "source": []
  }
 ],
 "metadata": {
  "kernelspec": {
   "display_name": "Python 3",
   "language": "python",
   "name": "python3"
  },
  "language_info": {
   "codemirror_mode": {
    "name": "ipython",
    "version": 3
   },
   "file_extension": ".py",
   "mimetype": "text/x-python",
   "name": "python",
   "nbconvert_exporter": "python",
   "pygments_lexer": "ipython3",
   "version": "3.7.3"
  }
 },
 "nbformat": 4,
 "nbformat_minor": 2
}
